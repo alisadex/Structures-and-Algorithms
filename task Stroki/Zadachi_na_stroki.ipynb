{
  "nbformat": 4,
  "nbformat_minor": 0,
  "metadata": {
    "colab": {
      "provenance": []
    },
    "kernelspec": {
      "name": "python3",
      "display_name": "Python 3"
    },
    "language_info": {
      "name": "python"
    }
  },
  "cells": [
    {
      "cell_type": "markdown",
      "source": [
        "# Дополнительные задачи на строки\n",
        "## Выполнила студентка группы БСТ2105 Первухина Алиса Александровна"
      ],
      "metadata": {
        "id": "74k1KgWD-3LA"
      }
    },
    {
      "cell_type": "markdown",
      "source": [
        "### Задача 1"
      ],
      "metadata": {
        "id": "EIUUHvdKAwMc"
      }
    },
    {
      "cell_type": "markdown",
      "source": [
        "Даны две строки: s1 и s2 с одинаковым размером, проверьте, может ли\n",
        "некоторая перестановка строки s1 “победить” некоторую перестановку\n",
        "строки s2 или наоборот.\n",
        "Строка x может “победить” строку y (обе имеют размер n), если x[i]> = y\n",
        "[i] (в алфавитном порядке) для всех i от 0 до n-1.\n",
        "Примеры:  \n",
        "Input: s1 = \"abc\", s2 = \"xya\"  \n",
        "Output: true  \n",
        "Объяснение: «ayx» - это перестановка строки s2 = «xya», которая“побеждает\"строку s1 = «abc».  \n",
        "Input: s1 = \"abe\", s2 = \"acd\"  \n",
        "Output: false  \n",
        "Объяснение: Все перестановки для s1 = \"abe\": \"abe\", \"aeb\",  \n",
        "\"bae\", \"bea\", \"eab\" и \"eba\", а все перестановки для s2 =  \n",
        "\"acd\": \"acd\", «adc», «cad», «cda», «dac» и «ca». Однако нет  \n",
        "никакой перестановки строки s1, которая может нарушить  \n",
        "некоторую перестановку строки s2 и наоборот.  \n",
        "s1.length == n  \n",
        "s2.length == n  \n",
        "1 <= n <= 10^  \n"
      ],
      "metadata": {
        "id": "UPSZ3EgB-xJ6"
      }
    },
    {
      "cell_type": "code",
      "source": [
        "s1, s2 = map(sorted, (input() for _ in '12'))\n",
        "(lambda x: print(any([all(map(lambda y: y[0] >= y[1], x)), all(map(lambda y: y[0] <= y[1], x))])))(zip(s1, s2))\n"
      ],
      "metadata": {
        "colab": {
          "base_uri": "https://localhost:8080/"
        },
        "id": "GXEx_rYH_NAj",
        "outputId": "ad9e6529-b6fc-4e91-b0ef-dbf0dc0bc75f"
      },
      "execution_count": 4,
      "outputs": [
        {
          "output_type": "stream",
          "name": "stdout",
          "text": [
            "abc\n",
            "xya\n",
            "True\n"
          ]
        }
      ]
    },
    {
      "cell_type": "markdown",
      "source": [
        "### Задача 2"
      ],
      "metadata": {
        "id": "Qmw0NzYqAt0H"
      }
    },
    {
      "cell_type": "markdown",
      "source": [
        "Дана строка s, вернуть самую длинную полиндромную подстроку в s.  \n",
        "Input: s = \"babad\"  \n",
        "Output: \"bab\"  \n",
        "Note: \"aba\" is also a valid answer.  \n",
        "Input: s = \"cbbd\"  \n",
        "Output: \"bb\"  "
      ],
      "metadata": {
        "id": "vhXYahmQAzt0"
      }
    },
    {
      "cell_type": "code",
      "source": [
        "def longest_palindromes(s):\n",
        "    longest_palindromes = []\n",
        "    max_len = 0\n",
        "    \n",
        "    # Перебираем все возможные центры подстроки\n",
        "    for i in range(len(s)):\n",
        "        # Для центра в виде символа\n",
        "        l, r = i, i\n",
        "        while l >= 0 and r < len(s) and s[l] == s[r]:\n",
        "            l -= 1\n",
        "            r += 1\n",
        "        if r - l - 1 > max_len:\n",
        "            max_len = r - l - 1\n",
        "            longest_palindromes = [s[l+1:r]]\n",
        "        elif r - l - 1 == max_len:\n",
        "            longest_palindromes.append(s[l+1:r])\n",
        "            \n",
        "        # Для центра в виде промежутка между символами\n",
        "        l, r = i, i+1\n",
        "        while l >= 0 and r < len(s) and s[l] == s[r]:\n",
        "            l -= 1\n",
        "            r += 1\n",
        "        if r - l - 1 > max_len:\n",
        "            max_len = r - l - 1\n",
        "            longest_palindromes = [s[l+1:r]]\n",
        "        elif r - l - 1 == max_len:\n",
        "            longest_palindromes.append(s[l+1:r])\n",
        "\n",
        "    return longest_palindromes"
      ],
      "metadata": {
        "id": "obJjHRr_A2Bs"
      },
      "execution_count": 12,
      "outputs": []
    },
    {
      "cell_type": "code",
      "source": [
        "string = input('Введите строку: ')\n",
        "print(\"Были найдены следующие подстроки: \", ', '.join(longest_palindromes(string)))"
      ],
      "metadata": {
        "colab": {
          "base_uri": "https://localhost:8080/"
        },
        "id": "VuqIEPeuBv6-",
        "outputId": "14609336-bfb7-4e46-9a67-7e7110f8142c"
      },
      "execution_count": 21,
      "outputs": [
        {
          "output_type": "stream",
          "name": "stdout",
          "text": [
            "Введите строку: babad\n",
            "Были найдены следующие подстроки:  bab, aba\n"
          ]
        }
      ]
    }
  ]
}