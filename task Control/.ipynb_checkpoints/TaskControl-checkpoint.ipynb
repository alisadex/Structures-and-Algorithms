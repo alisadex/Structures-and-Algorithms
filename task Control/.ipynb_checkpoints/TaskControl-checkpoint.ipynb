{
 "cells": [
  {
   "cell_type": "markdown",
   "metadata": {
    "id": "muoLNJL0Gf9P"
   },
   "source": [
    "# **Контрольные задачи по дисциплине СиАОД №1**\n",
    "### Выполнила студентка группы БСТ2105 Первухина Алиса Александровна"
   ]
  },
  {
   "cell_type": "markdown",
   "metadata": {
    "id": "xEkRCOtWI9Jy"
   },
   "source": [
    "# **Задача 1. «Треугольник с максимальным периметром»**\n",
    "Массив A состоит из целых положительных чисел ­ длин отрезков. Составьте из трех отрезков такой треугольник, чтобы его периметр был максимально возможным. Если невозможно\n",
    "составить треугольник с положительной площадью ­ функция возвращает 0."
   ]
  },
  {
   "cell_type": "code",
   "execution_count": 4,
   "metadata": {
    "colab": {
     "base_uri": "https://localhost:8080/"
    },
    "id": "RlIgKp30JQlv",
    "outputId": "f02cc1c8-7926-45e4-834b-83e1be8ef3ad"
   },
   "outputs": [
    {
     "name": "stdout",
     "output_type": "stream",
     "text": [
      "triangleWithMaxPerimeter([3, 2, 3, 4]) -> 10\n",
      "triangleWithMaxPerimeter([3, 6, 2, 3]) -> 8\n",
      "triangleWithMaxPerimeter([1, 2, 1]) -> 0\n",
      "triangleWithMaxPerimeter([2, 1, 2]) -> 5\n"
     ]
    }
   ],
   "source": [
    "def triangleWithMaxPerimeter(A: []) -> int:\n",
    "    A = sorted(A, reverse=True)\n",
    "    for i in range(len(A) - 2):\n",
    "        if A[i] < A[i + 1] + A[i + 2]:\n",
    "            return A[i] + A[i + 1] + A[i + 2]\n",
    "    return 0\n",
    "\n",
    "\n",
    "print(\"triangleWithMaxPerimeter([3, 2, 3, 4]) -> \" + str(triangleWithMaxPerimeter([3, 2, 3, 4])))\n",
    "print(\"triangleWithMaxPerimeter([3, 6, 2, 3]) -> \" + str(triangleWithMaxPerimeter([3, 6, 2, 3])))\n",
    "print(\"triangleWithMaxPerimeter([1, 2, 1]) -> \" + str(triangleWithMaxPerimeter([1, 2, 1])))\n",
    "print(\"triangleWithMaxPerimeter([2, 1, 2]) -> \" + str(triangleWithMaxPerimeter([2, 1, 2])))"
   ]
  },
  {
   "cell_type": "markdown",
   "metadata": {
    "id": "UnSfnwQIJziv"
   },
   "source": [
    "# **Задача 2. «Максимальное число»**\n",
    "Дан массив неотрицательных целых чисел nums. Расположите их в таком порядке, чтобы\n",
    "вместе они образовали максимально возможное число. **Замечание**: Результат может быть очень большим числом, поэтому представьте его как\n",
    "string, а не integer.\n"
   ]
  },
  {
   "cell_type": "code",
   "execution_count": 5,
   "metadata": {},
   "outputs": [
    {
     "name": "stdout",
     "output_type": "stream",
     "text": [
      "maxNumber([10, 2])) -> 210\n",
      "maxNumber([3, 30, 34, 5, 9]) -> 9534330\n",
      "maxNumber([1]) -> 1\n",
      "maxNumber([10]) -> 10\n",
      "maxNumber([10]) -> 3324324\n"
     ]
    }
   ],
   "source": [
    "def maxNumber(nums: []) -> str:\n",
    "    nums = list(map(str, nums))\n",
    "    nums = sorted(nums, reverse=True, key=lambda x: x * 10)\n",
    "    return ''.join(nums).lstrip('0') or '0'\n",
    "\n",
    "\n",
    "print(\"maxNumber([10, 2])) -> \" + str(maxNumber([10, 2])))\n",
    "print(\"maxNumber([3, 30, 34, 5, 9]) -> \" + str(maxNumber([3, 30, 34, 5, 9])))\n",
    "print(\"maxNumber([1]) -> \" + str(maxNumber([1])))\n",
    "print(\"maxNumber([10]) -> \" + str(maxNumber([10])))\n",
    "print(\"maxNumber([10]) -> \" + str(maxNumber([3324, 324])))\n"
   ]
  },
  {
   "cell_type": "markdown",
   "metadata": {
    "id": "QftCmsKpEU6a"
   },
   "source": [
    "# **Задача 3. «Сортировка диагоналей в матрице»**\n",
    "Дана матрица mat размером m * n, значения ­ целочисленные. Напишите функцию, сортирующую каждую диагональ матрицы по возрастанию и возвращающую получившуюся матрицу."
   ]
  },
  {
   "cell_type": "code",
   "execution_count": 6,
   "metadata": {
    "colab": {
     "base_uri": "https://localhost:8080/"
    },
    "id": "rYbXMWzoEsM2",
    "outputId": "b34c7707-4ac3-46b7-f1fc-6ae9c77da86a"
   },
   "outputs": [
    {
     "name": "stdout",
     "output_type": "stream",
     "text": [
      "True\n"
     ]
    }
   ],
   "source": [
    "def diagonal_sort(mat):\n",
    "    for column in range(len(mat[0]) - 1):\n",
    "        diagonal_list = []\n",
    "        col = column  # получили диагональ каждого столбца для первой строки\n",
    "\n",
    "        for row in range(len(mat)):\n",
    "            diagonal_list.append(mat[row][col]) #отсортировали диагональ и поместили обратно в диагональ матрицы\n",
    "            col += 1\n",
    "\n",
    "            if col >= len(mat[0]):\n",
    "                break\n",
    "\n",
    "        diagonal_list = sorted(diagonal_list)\n",
    "        col = column\n",
    "\n",
    "        for row in range(len(mat)):\n",
    "            mat[row][col] = diagonal_list[row]\n",
    "            col += 1\n",
    "\n",
    "            if col >= len(mat[0]):\n",
    "                break\n",
    "\n",
    "    for row in range(1, len(mat)):\n",
    "        diagonal_list = []\n",
    "        r = row #получили диагональ каждой строки для первого столбца\n",
    "\n",
    "      \n",
    "        for column in range(len(mat[0])):\n",
    "            # отсортировали диагональ и поместили обратно в диагональ матрицы\n",
    "            diagonal_list.append(mat[r][column])\n",
    "            r += 1\n",
    "\n",
    "            if r >= len(mat):\n",
    "                break\n",
    "\n",
    "        diagonal_list = sorted(diagonal_list)\n",
    "        r = row\n",
    "\n",
    "        for column in range(len(mat[0])):\n",
    "            mat[r][column] = diagonal_list[column]\n",
    "            r += 1\n",
    "\n",
    "            if r >= len(mat):\n",
    "                break\n",
    "\n",
    "    return mat\n",
    "\n",
    "\n",
    "mat = [[11, 25, 66, 1, 69, 7], [23, 55, 17, 45, 15, 52], [75, 31, 36, 44, 58, 8], [22, 27, 33, 25, 68, 4],\n",
    "       [84, 28, 14, 11, 5, 50]]\n",
    "result_mat = [[5, 17, 4, 1, 52, 7], [11, 11, 25, 45, 8, 69], [14, 23, 25, 44, 58,\n",
    "                                                              15], [22, 27, 31, 36, 50, 66], [84, 28, 75, 33, 55, 68]]\n",
    "diagonal_sort(mat)\n",
    "print(mat == result_mat)\n"
   ]
  }
 ],
 "metadata": {
  "colab": {
   "provenance": []
  },
  "kernelspec": {
   "display_name": "Python 3 (ipykernel)",
   "language": "python",
   "name": "python3"
  },
  "language_info": {
   "codemirror_mode": {
    "name": "ipython",
    "version": 3
   },
   "file_extension": ".py",
   "mimetype": "text/x-python",
   "name": "python",
   "nbconvert_exporter": "python",
   "pygments_lexer": "ipython3",
   "version": "3.9.16"
  }
 },
 "nbformat": 4,
 "nbformat_minor": 1
}
