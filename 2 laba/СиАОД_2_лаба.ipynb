{
 "cells": [
  {
   "cell_type": "markdown",
   "id": "fifteen-sailing",
   "metadata": {
    "id": "fifteen-sailing"
   },
   "source": [
    "# Лабораторная работа №2\n",
    "## Выполнила студентка группы БСТ2105 Первухина Алиса Александровна"
   ]
  },
  {
   "cell_type": "markdown",
   "id": "arctic-stocks",
   "metadata": {
    "id": "arctic-stocks"
   },
   "source": [
    "Реализовать следующие структуры данных:\n",
    "  \n",
    "● <b> Стек (stack): </b>  \n",
    "Операции для стека: \n",
    "<i> инициализация, проверка на пустоту, добавление нового элемента в начало, извлечение элемента из начала;  </i>  \n",
    "  \n",
    "● <b> Дек (двусторонняя очередь, deque):  </b>  \n",
    "Операции для дека: \n",
    "<i> инициализация, проверка на пустоту, добавление нового элемента в начало, добавление нового элемента в конец, извлечение элемента из начала, извлечение элемента из конца. </i>  \n",
    "  \n",
    "<i> Разработать программу обработки данных, содержащихся в заранее подготовленном txt-файле, в соответствии с заданиями, применив указанную в задании структуру данных. Результат работы программы вывести на экран и сохранить в отдельном txt-файле. </i>"
   ]
  },
  {
   "cell_type": "markdown",
   "id": "5d7edb08",
   "metadata": {
    "id": "5d7edb08",
    "scrolled": true
   },
   "source": [
    "### Задание №1\n",
    "Отсортировать строки файла, содержащие названия книг, в алфавитном порядке с использованием двух деков."
   ]
  },
  {
   "cell_type": "code",
   "execution_count": 5,
   "id": "pzFwDNjYH855",
   "metadata": {
    "id": "pzFwDNjYH855"
   },
   "outputs": [],
   "source": [
    "from collections import deque"
   ]
  },
  {
   "cell_type": "code",
   "execution_count": 6,
   "id": "17702ade",
   "metadata": {
    "colab": {
     "base_uri": "https://localhost:8080/"
    },
    "id": "17702ade",
    "outputId": "39d734e8-16fc-444f-e6b8-696c0863124b"
   },
   "outputs": [
    {
     "name": "stdout",
     "output_type": "stream",
     "text": [
      "Исходный файл:\n",
      " Мартин Иден\n",
      " Джейн Эйр\n",
      " Алиса в Зазеркалье\n",
      " Белая гвардия\n",
      " Снафф\n",
      " Американский психопат\n",
      " Таинственная история Билли Миллигана\n",
      "Отсортированный файл:\n",
      " Алиса в Зазеркалье\n",
      " Американский психопат\n",
      " Белая гвардия\n",
      " Джейн Эйр\n",
      " Мартин Иден\n",
      " Снафф\n",
      " Таинственная история Билли Миллигана\n"
     ]
    }
   ],
   "source": [
    "books = open('sources/bookList.txt', 'r', encoding = 'utf-8')\n",
    "deq1, deq2 = deque(), deque()\n",
    "for book in books:\n",
    "  deq1.append(book)\n",
    "print(\"Исходный файл:\\n\", *deq1)  \n",
    "\n",
    "while not len(deq1) == 0:\n",
    "  x = deq1.pop()\n",
    "  while not len(deq2) == 0 and deq2[-1] > x:\n",
    "    deq1.appendleft(deq2.pop())\n",
    "  deq2.append(x)\n",
    "\n",
    "print(\"Отсортированный файл:\\n\", *deq2)\n",
    "\n",
    "#запись отсортированного списка в новый файл sortedBookList.txt\n",
    "sortedBooks = open('sources/sortedBookList.txt', 'w', encoding = 'utf-8')\n",
    "with sortedBooks as writefile:\n",
    "  for sortedBook in deq2:\n",
    "      writefile.write(sortedBook)"
   ]
  },
  {
   "cell_type": "markdown",
   "id": "49fbd2a0",
   "metadata": {
    "id": "49fbd2a0"
   },
   "source": [
    "### Задание №2\n",
    "Дек содержит последовательность символов для шифровки сообщений. Дан текстовый файл, содержащий зашифрованное сообщение. Пользуясь деком, расшифровать текст. \n",
    "Известно, что при шифровке каждый символ сообщения заменялся следующим за ним в деке по часовой стрелке через один."
   ]
  },
  {
   "cell_type": "code",
   "execution_count": 7,
   "id": "81cab7a8",
   "metadata": {
    "id": "81cab7a8"
   },
   "outputs": [
    {
     "name": "stdout",
     "output_type": "stream",
     "text": [
      "Зашифрованное сообщение файла:б уфхёжпфмв етхссэ гуф2105, ожпб йрдхф сжтдхчкпв внкув\n",
      "Расшифрованное сообщение файла: я студентка группы бст2105, меня зовут первухина алиса\n"
     ]
    }
   ],
   "source": [
    "russianAlphabet = list('абвгдеёжзийклмнопрстуфхцчшщъыьэюя')\n",
    "message, cypher = deque(), deque()\n",
    "key = 2\n",
    "\n",
    "for i in range(len(russianAlphabet)):\n",
    "    cypher.append(russianAlphabet[(i + key) % len(russianAlphabet)])\n",
    "    \n",
    "encryptedMessage = open('sources/encryptedMessage.txt', 'r', encoding = 'utf-8')\n",
    "with encryptedMessage as readfile:\n",
    "    string = readfile.readline().lower()\n",
    "    for char in string:\n",
    "        if char != \"\\n\":\n",
    "            message.append(char)\n",
    "            \n",
    "print(\"Зашифрованное сообщение файла:\", *message, sep = \"\")\n",
    "\n",
    "result = \"\"\n",
    "for char in message:\n",
    "    if char in russianAlphabet:\n",
    "        result += russianAlphabet[cypher.index(char)]\n",
    "    else:\n",
    "        result += char\n",
    "    \n",
    "print(\"Расшифрованное сообщение файла:\", result)\n",
    "\n",
    "decodedMessage = open('sources/decodedMessage.txt', 'w', encoding = 'utf-8')\n",
    "with decodedMessage as writefile:\n",
    "    writefile.write(result)"
   ]
  },
  {
   "cell_type": "markdown",
   "id": "c0894f47",
   "metadata": {
    "id": "c0894f47"
   },
   "source": [
    "### Задание №3\n",
    "Даны три стержня и n дисков различного размера. Диски можно надевать на стержни, образуя из них башни. Перенести n дисков со стержня А на стержень С, сохранив их первоначальный порядок. При переносе дисков необходимо соблюдать следующие правила:\n",
    "- на каждом шаге со стержня на стержень переносить только один диск;\n",
    "- диск нельзя помещать на диск меньшего размера;\n",
    "- для промежуточного хранения можно использовать стержень В.\n",
    "Реализовать алгоритм, используя три стека вместо стержней А, В, С. Информация о дисках хранится в исходном файле."
   ]
  },
  {
   "cell_type": "code",
   "execution_count": 8,
   "id": "9e91a9d4",
   "metadata": {
    "colab": {
     "base_uri": "https://localhost:8080/"
    },
    "id": "9e91a9d4",
    "outputId": "2cf36eba-f802-445d-ba08-e3a3a31420b0"
   },
   "outputs": [
    {
     "name": "stdout",
     "output_type": "stream",
     "text": [
      "Количество дисков = 3\n",
      "[] [] [3, 2, 1]\n"
     ]
    }
   ],
   "source": [
    "A, B, C = [],[],[]\n",
    "n = int(input(\"Количество дисков = \"))\n",
    "for i in range(n, 0, -1):\n",
    "  A.append(i)\n",
    "\n",
    "# sourceRod = начальный стержень А\n",
    "# auxiliaryRod = вспомогательный стержень B\n",
    "# finalRod = конечный стержень C\n",
    "def towerOfHanoi(numberOfDisks, sourceRod, auxiliaryRod, finalRod):\n",
    "  if numberOfDisks < 0:\n",
    "        return\n",
    "  towerOfHanoi(numberOfDisks - 1, sourceRod, finalRod, auxiliaryRod)\n",
    "  if len(sourceRod) > 0 :\n",
    "    finalRod.append(sourceRod.pop())\n",
    "  towerOfHanoi(numberOfDisks - 1, auxiliaryRod, sourceRod, finalRod)\n",
    "\n",
    "towerOfHanoi(n, A, B, C)\n",
    "print(A, B, C)\n"
   ]
  },
  {
   "cell_type": "markdown",
   "id": "e5b0be17",
   "metadata": {
    "id": "e5b0be17"
   },
   "source": [
    "### Задание №4\n",
    "Дан текстовый файл с программой на алгоритмическом языке. За один просмотр файла проверить баланс круглых скобок в тексте, используя стек."
   ]
  },
  {
   "cell_type": "code",
   "execution_count": 9,
   "id": "5b1df60a",
   "metadata": {
    "id": "5b1df60a"
   },
   "outputs": [
    {
     "name": "stdout",
     "output_type": "stream",
     "text": [
      "Верный баланс\n"
     ]
    }
   ],
   "source": [
    "stack = []\n",
    "flag = 1\n",
    "\n",
    "task4 = open('sources/zadanie4.txt', 'r', encoding = 'utf-8')\n",
    "with task4 as readfile:\n",
    "    for string in readfile:\n",
    "        for char in string:\n",
    "            if char == \"(\":\n",
    "                stack.append(char)\n",
    "            if char == \")\":\n",
    "                if len(stack) == 0:\n",
    "                    flag = 0\n",
    "                    break\n",
    "                stack.pop()\n",
    "                \n",
    "if len(stack) > 0:\n",
    "    flag = 0\n",
    "    \n",
    "print(\"Верный баланс\" if flag else \"Баланс нарушен\")\n"
   ]
  },
  {
   "cell_type": "markdown",
   "id": "c44cdd6b",
   "metadata": {
    "id": "c44cdd6b"
   },
   "source": [
    "### Задание №5\n",
    "Дан текстовый файл с программой на алгоритмическом языке. За один просмотр файла проверить баланс квадратных скобок в тексте, используя дек."
   ]
  },
  {
   "cell_type": "code",
   "execution_count": 10,
   "id": "36b8f400",
   "metadata": {
    "id": "36b8f400"
   },
   "outputs": [
    {
     "name": "stdout",
     "output_type": "stream",
     "text": [
      "Баланс нарушен\n"
     ]
    }
   ],
   "source": [
    "deq = deque()\n",
    "flag = 1\n",
    "\n",
    "task5 = open('sources/zadanie5.txt', 'r', encoding = 'utf-8')\n",
    "with task5 as readfile:\n",
    "    for string in readfile:\n",
    "        for char in string:\n",
    "            if char == \"\":\n",
    "                deq.append(char)\n",
    "            if char == \"]\":\n",
    "                if len(deq) == 0:\n",
    "                    flag = 0\n",
    "                    break\n",
    "                deq.pop()\n",
    "                \n",
    "if len(deq) > 0:\n",
    "    flag = 0\n",
    "    \n",
    "print(\"Верный баланс\" if flag else \"Баланс нарушен\")"
   ]
  },
  {
   "cell_type": "markdown",
   "id": "59d13dc7",
   "metadata": {
    "id": "59d13dc7"
   },
   "source": [
    "### Задание №6\n",
    "Дан файл из символов. Используя стек, за один просмотр файла напечатать сначала все цифры, затем все буквы, и, наконец, все остальные символы, сохраняя исходный порядок в каждой группе символов."
   ]
  },
  {
   "cell_type": "code",
   "execution_count": 11,
   "id": "297e36c2",
   "metadata": {
    "id": "297e36c2"
   },
   "outputs": [
    {
     "name": "stdout",
     "output_type": "stream",
     "text": [
      "2341232132342432432234549\n",
      "РазбежавшисьпрыгнусоскалыВотябыливотменянесталоИкогдаобэтомвдругузнаешьтыТогдапоймешькогоптыпотеряла\n",
      "!!!,   , \n",
      "  ,     , \n",
      "  $$$--!!    , \n",
      " ##***!,   . \n"
     ]
    }
   ],
   "source": [
    "letters, numbers, others = [], [], []\n",
    "with open(\"sources/zadanie6.txt\", \"r\", encoding=\"utf-8\") as readfile:\n",
    "  for string in readfile:\n",
    "    for char in string:\n",
    "            if char.isalpha():\n",
    "                letters.append(char)\n",
    "            elif char.isdigit():\n",
    "                numbers.append(char)\n",
    "            else:\n",
    "                others.append(char)\n",
    "\n",
    "letters.reverse()\n",
    "numbers.reverse()\n",
    "others.reverse()\n",
    "\n",
    "resultLetters, resultNumbers, resultOther = \"\", \"\", \"\"\n",
    "while letters:\n",
    "    resultLetters += letters.pop()\n",
    "while numbers:\n",
    "    resultNumbers += numbers.pop()\n",
    "while others:\n",
    "    resultOther += others.pop()\n",
    "    \n",
    "print(resultNumbers, resultLetters, resultOther, sep = \"\\n\")"
   ]
  },
  {
   "cell_type": "markdown",
   "id": "973f68bd",
   "metadata": {
    "id": "973f68bd"
   },
   "source": [
    "### Задание №7\n",
    "Дан файл из целых чисел. Используя дек, за один просмотр файла напечатать сначала все отрицательные числа, затем все положительные числа, сохраняя исходный порядок в каждой группе."
   ]
  },
  {
   "cell_type": "code",
   "execution_count": 15,
   "id": "c56fad66",
   "metadata": {
    "id": "c56fad66"
   },
   "outputs": [
    {
     "name": "stdout",
     "output_type": "stream",
     "text": [
      "Исходный файл:\n",
      " 1 5 -2 3 -1 -8\n",
      "Отсортированный файл:\n",
      "-2 -1 -8 1 5 3 "
     ]
    }
   ],
   "source": [
    "deq = deque()\n",
    "oldFile = open('sources/zadanie7_oldFile.txt', 'r', encoding = 'utf-8')\n",
    "with oldFile as readfile:\n",
    "    numbersArray = readfile.readline().split()\n",
    "    print(\"Исходный файл:\\n\", *numbersArray)\n",
    "    numbersArray = map(int, numbersArray)\n",
    "\n",
    "for num in numbersArray:\n",
    "    if num < 0:\n",
    "        deq.appendleft(num)\n",
    "    else:\n",
    "        deq.append(num)\n",
    "        \n",
    "while deq:\n",
    "    x = deq.popleft()\n",
    "    if x < 0:\n",
    "        deq.append(x)\n",
    "    else:\n",
    "        deq.appendleft(x)\n",
    "        break\n",
    "print(\"Отсортированный файл:\")\n",
    "while deq:\n",
    "    x = deq.pop()\n",
    "    if x < 0:\n",
    "        print(x, end = \" \")\n",
    "    else:\n",
    "        deq.append(x)\n",
    "        while deq:\n",
    "            print(deq.popleft(), end = \" \")\n",
    "        break"
   ]
  },
  {
   "cell_type": "markdown",
   "id": "b9228191",
   "metadata": {
    "id": "b9228191"
   },
   "source": [
    "### Задание №8\n",
    "Дан текстовый файл. Используя стек, сформировать новый текстовый файл, содержащий строки исходного файла, записанные в обратном порядке: первая строка становится последней, вторая – предпоследней и т.д."
   ]
  },
  {
   "cell_type": "code",
   "execution_count": 13,
   "id": "981fbdfe",
   "metadata": {
    "id": "981fbdfe"
   },
   "outputs": [
    {
     "name": "stdout",
     "output_type": "stream",
     "text": [
      "Исходный текст файла:\n",
      "1 The Show Must Go On\n",
      "2 Another One Bites The Dust\n",
      "3 I Want To Break Free\n",
      "4 Bohemian Rhapsody\n",
      "5 Crazy Thing Called Love\n",
      "6 Radio Ga Ga\n",
      "Новый текст файла:\n",
      "6 Radio Ga Ga\n",
      "5 Crazy Thing Called Love\n",
      "4 Bohemian Rhapsody\n",
      "3 I Want To Break Free\n",
      "2 Another One Bites The Dust\n",
      "1 The Show Must Go On\n"
     ]
    }
   ],
   "source": [
    "stack = []\n",
    "oldFile = open('sources/zadanie8_oldFile.txt', 'r', encoding = 'utf-8')\n",
    "print(\"Исходный текст файла:\")\n",
    "for string in oldFile:\n",
    "    stack.append(string)\n",
    "    print(string, end = \"\")\n",
    "print(\"Новый текст файла:\")    \n",
    "newFile = open('sources/zadanie8_newFile.txt', 'w', encoding = 'utf-8')\n",
    "with newFile as writefile:\n",
    "    while stack:\n",
    "        print(stack[-1], end = \"\")\n",
    "        writefile.write(stack.pop())"
   ]
  },
  {
   "cell_type": "markdown",
   "id": "rental-jerusalem",
   "metadata": {
    "id": "rental-jerusalem"
   },
   "source": [
    "### Вывод\n"
   ]
  },
  {
   "cell_type": "markdown",
   "id": "0c2b8899",
   "metadata": {
    "id": "0c2b8899"
   },
   "source": [
    "Были реализованы такие структуры данных как стэк и дэк. Были использованы операции для этих структур данных (инициализация, проверка на пустоту, добавление и извлечение элемента слева и справа). Был реализован ввод и вывод в текстовый файл. Проект был загружен на Github: https://github.com/irenadex/Structures-and-algorithms\n"
   ]
  }
 ],
 "metadata": {
  "colab": {
   "provenance": []
  },
  "kernelspec": {
   "display_name": "Python 3 (ipykernel)",
   "language": "python",
   "name": "python3"
  },
  "language_info": {
   "codemirror_mode": {
    "name": "ipython",
    "version": 3
   },
   "file_extension": ".py",
   "mimetype": "text/x-python",
   "name": "python",
   "nbconvert_exporter": "python",
   "pygments_lexer": "ipython3",
   "version": "3.9.16"
  }
 },
 "nbformat": 4,
 "nbformat_minor": 5
}
