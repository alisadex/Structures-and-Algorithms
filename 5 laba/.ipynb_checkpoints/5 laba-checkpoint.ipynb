{
 "cells": [
  {
   "cell_type": "markdown",
   "id": "f9cd2523",
   "metadata": {},
   "source": [
    "# Лабораторная работа №5"
   ]
  },
  {
   "cell_type": "markdown",
   "id": "4895c0d8",
   "metadata": {},
   "source": [
    "## Выполнила студентка группы БСТ2105 Первухина Алиса Александровна"
   ]
  },
  {
   "cell_type": "code",
   "execution_count": 1,
   "id": "baf39bd1",
   "metadata": {},
   "outputs": [],
   "source": [
    "# Дополнительные модули, использованные при выполнение лабораторной\n",
    "# Необходимы при замере скорости выполнения кода\n",
    "import time\n",
    "# Нужен для создания словаря в алг. Бойера-Мура\n",
    "from collections import defaultdict\n",
    "import pandas as pd"
   ]
  },
  {
   "cell_type": "markdown",
   "id": "812776b6",
   "metadata": {},
   "source": [
    "### Задание №1"
   ]
  },
  {
   "cell_type": "markdown",
   "id": "ea9e597c",
   "metadata": {},
   "source": [
    "Реализовать методы поиска подстроки в строке. Добавить возможность ввода строки и подстроки с клавиатуры. Предусмотреть возможность существования пробела. Реализовать возможность выбора опции чувствительности или нечувствительности к регистру. Оценить время работы каждого алгоритма поиска и сравнить его со временем работы стандартной функции поиска, используемой в выбранном языке программирования."
   ]
  },
  {
   "cell_type": "markdown",
   "id": "c851ed7d",
   "metadata": {},
   "source": [
    "### Алгоритм Кнута-Морриса-Пратта"
   ]
  },
  {
   "cell_type": "code",
   "execution_count": 2,
   "id": "f3ffc640",
   "metadata": {},
   "outputs": [],
   "source": [
    "def KMP(text: str, pattern: str, ignore_сase=False) -> bool:\n",
    "    if ignore_сase:\n",
    "        text = text.lower()\n",
    "        pattern = pattern.lower()\n",
    "    t = len(text)\n",
    "    p = len(pattern)\n",
    "    if p > t:\n",
    "        return False\n",
    "    # массив содержащий максимальные длины суффиксов для каждого элемента в подстроке\n",
    "    max_suffix = [0]*p\n",
    "    j = 0\n",
    "    for i in range(1, p-1):\n",
    "        if pattern[j] == pattern[i]:\n",
    "            max_suffix[i] = j+1\n",
    "            j += 1\n",
    "        else:\n",
    "            if j == 0:\n",
    "                max_suffix[i] = 0\n",
    "            else:\n",
    "                j = max_suffix[j-1]\n",
    "    i, j = 0, 0 # i - итератор по тексту, j - итератор по подстроке\n",
    "    while i < t:\n",
    "        if text[i] == pattern[j]:\n",
    "            i += 1\n",
    "            j += 1\n",
    "            if j == p:\n",
    "                return True # подстрока найдена\n",
    "        else:\n",
    "            if j > 0:\n",
    "                j = max_suffix[j-1]\n",
    "            else:\n",
    "                i += 1\n",
    "    if i == t and j != p:\n",
    "        return False "
   ]
  },
  {
   "cell_type": "code",
   "execution_count": 3,
   "id": "713f30ea",
   "metadata": {},
   "outputs": [
    {
     "name": "stdout",
     "output_type": "stream",
     "text": [
      "Введенная строка: ilovedrainganandsadboys\n",
      "Подстрока для поиска: sad\n",
      "Ингорировать регистр (True/False): True\n",
      "Подстрока найдена\n"
     ]
    }
   ],
   "source": [
    "data = input(\"Введенная строка: \")\n",
    "pattern, options = input(\"Подстрока для поиска: \"), bool(input(\"Ингорировать регистр (True/False): \").title())\n",
    "\n",
    "if KMP(data, pattern, options):\n",
    "    print(\"Подстрока найдена\")\n",
    "else:\n",
    "    print(\"Подстрока не найдена\")"
   ]
  },
  {
   "cell_type": "markdown",
   "id": "822efe70",
   "metadata": {},
   "source": [
    "### Упрощенный алгоритм Бойера-Мура"
   ]
  },
  {
   "cell_type": "code",
   "execution_count": 4,
   "id": "99fc9364",
   "metadata": {},
   "outputs": [],
   "source": [
    "def BM(text: str, pattern: str, ignore_сase=False) -> bool:\n",
    "    # значение по умолчанию для смещения, если буква отсутствует в паттерне\n",
    "    def default_value():\n",
    "        return len(pattern) \n",
    "    \n",
    "    if ignore_сase:\n",
    "        text = text.lower()\n",
    "        pattern = pattern.lower()\n",
    "    t = len(text)\n",
    "    p = len(pattern)\n",
    "    if p > t:\n",
    "        return False\n",
    "    d = defaultdict(default_value) # словарь смещений\n",
    "    #заполнение словаря смещений\n",
    "    for i in range(p-2, -1, -1):\n",
    "        if pattern[i] not in d:\n",
    "            d[pattern[i]] = p-i-1\n",
    "    if pattern[p-1] not in d:\n",
    "        d[pattern[p-1]] = p\n",
    "    i = p-1 # счетчик проверяемого символа в тексте\n",
    "    while(i < t):\n",
    "        k = 0 # указатель внутри текста k = [0, len(text)-1], охватывает предыдущие символы в тексте\n",
    "        j = 0 # указатель внутри паттерна\n",
    "        mismatch = False\n",
    "        for j in range(p-1, -1, -1): \n",
    "            if text[i-k] != pattern[j]:\n",
    "                if j == p-1:\n",
    "                    offset = d[text[i]] # смещение, если не равен последний символ образа\n",
    "                else:\n",
    "                    offset = d[pattern[j]] # смещение, если не равен не последний символ образа\n",
    "                i += offset # смещение счетчика строки\n",
    "                mismatch = True # если несовпадение символа, то mismatch = True\n",
    "                break\n",
    "            k += 1\n",
    "        if not mismatch:\n",
    "            return True\n",
    "    return False"
   ]
  },
  {
   "cell_type": "code",
   "execution_count": 6,
   "id": "307cbadf",
   "metadata": {},
   "outputs": [
    {
     "name": "stdout",
     "output_type": "stream",
     "text": [
      "Введенная строка: ilovetzamxx\n",
      "Подстрока для поиска: dota\n",
      "Ингорировать регистр (True/False): False\n",
      "Подстрока не найдена\n"
     ]
    }
   ],
   "source": [
    "data = input(\"Введенная строка: \")\n",
    "pattern, options = input(\"Подстрока для поиска: \"), bool(input(\"Ингорировать регистр (True/False): \").title())\n",
    "\n",
    "if BM(data, pattern, options):\n",
    "    print(\"Подстрока найдена\")\n",
    "else:\n",
    "    print(\"Подстрока не найдена\")"
   ]
  },
  {
   "cell_type": "markdown",
   "id": "d18b0995",
   "metadata": {},
   "source": [
    "### Задание №2"
   ]
  },
  {
   "cell_type": "markdown",
   "id": "56f19c93",
   "metadata": {},
   "source": [
    "Написать программу, определяющую, является ли данное расположение «решаемым», то есть можно ли из него за конечное число шагов перейти к правильному. Если это возможно, то необходимо найти хотя бы одно решение - последовательность движений, после которой числа будут расположены в правильном порядке.\n",
    "\n",
    "Входные данные: массив чисел, представляющий собой расстановку в\n",
    "\n",
    "Порядке «слева направо, сверху вниз». Число 0 обозначает пустое поле. Например, массив [1, 2, 3, 4, 5, 6, 7, 8, 9, 10, 11, 12, 13, 14, 15, 0] представляет собой «решенную» позицию элементов.\n",
    "\n",
    "Выходные данные: если решения нет, то функция должна вернуть пустой массив []. Если решение есть, то необходимо представить решение — для каждого шага записывается номер передвигаемого на данном шаге элемента."
   ]
  },
  {
   "cell_type": "code",
   "execution_count": 7,
   "id": "6680683f",
   "metadata": {},
   "outputs": [
    {
     "name": "stdout",
     "output_type": "stream",
     "text": [
      "Нерешаемо\n"
     ]
    }
   ],
   "source": [
    "from queue import PriorityQueue\n",
    "\n",
    "N = 4\n",
    "\n",
    "def moves(position):\n",
    "    blank = position.index(0)\n",
    "    i, j = divmod(blank, N)\n",
    "    offsets = []\n",
    "    if i > 0: offsets.append(-N)     # вниз\n",
    "    if i < N - 1: offsets.append(N)  # вверх\n",
    "    if j > 0: offsets.append(-1)     # вправо\n",
    "    if j < N - 1: offsets.append(1)  # влево\n",
    "    for offset in offsets:\n",
    "        swap = blank + offset\n",
    "        yield tuple(position[swap] if x==blank else position[blank] if x==swap else position[x] for x in range(N*N))\n",
    "\n",
    "\n",
    "def parity(permutation):\n",
    "    seen, cycles = set(), 0\n",
    "    for i in permutation:\n",
    "        if i not in seen:\n",
    "            cycles += 1\n",
    "            while i not in seen:\n",
    "                seen.add(i)\n",
    "                i = permutation[i]\n",
    "    return (cycles + len(permutation)) % 2\n",
    "\n",
    "\n",
    "class Position:\n",
    "    def __init__(self, position, start_distance):\n",
    "        self.position = position\n",
    "        self.start_distance = start_distance\n",
    "\n",
    "    def __lt__(self, other):\n",
    "        return self.start_distance < other.start_distance\n",
    "\n",
    "    def __str__(self):\n",
    "        return '\\n'.join((N*'{:3}').format(*[i%(N*N) for i in self.position[i:]]) for i in range(0, N*N, N))\n",
    "\n",
    "SOLVED = (1, 2, 3, 4, 5, 6, 7, 8, 9, 10, 11, 12, 13, 14, 15, 0)\n",
    "\n",
    "start = [15, 2, 1, 12, 8, 5, 6, 11, 4, 9, 10, 7, 3, 14, 13, 0]\n",
    "\n",
    "if parity(start) == 0:\n",
    "    print('Нерешаемо')\n",
    "else:\n",
    "    start = tuple(start)\n",
    "\n",
    "    p = Position(start, 0)\n",
    "\n",
    "    print(p)\n",
    "    print()\n",
    "\n",
    "    candidates = PriorityQueue()\n",
    "    candidates.put(p)\n",
    "\n",
    "    visited = set([p])\n",
    "\n",
    "    came_from = {p.position: None}\n",
    "    \n",
    "    while p.position != SOLVED:\n",
    "        p = candidates.get()\n",
    "        for k in moves(p.position):\n",
    "            if k not in visited:\n",
    "                candidates.put(Position(k, p.start_distance + 1))\n",
    "                came_from[k] = p\n",
    "                visited.add(k)\n",
    "\n",
    "    path = []\n",
    "    prev = p\n",
    "    while p.position != start:\n",
    "        p = came_from[p.position]\n",
    "        number = p.position[prev.position.index(0)]\n",
    "        path.append(number)\n",
    "        prev = p\n",
    "    path.reverse()\n",
    "\n",
    "    print(path)"
   ]
  },
  {
   "cell_type": "markdown",
   "id": "16980318",
   "metadata": {},
   "source": [
    "## Вывод"
   ]
  },
  {
   "cell_type": "markdown",
   "id": "b22f5090",
   "metadata": {},
   "source": [
    "Мы научились искать подстроки в строке, используя различные алгоритмы (Кнута-Морриса-Пратта, Бойера-Мура), а также реализовали возможность ввода строк и подстрок с клавиатуры, кроме того, предусмотрев возможность выбора чувствительности/нечувствительности к регистру и пробелу. Помимо этого, была написана программа, определяющая, является ли расположение \"решаемым\", то есть можно ли за конечное число шагов перейти от него к правильному, а также, если это возможно, найти, как минимум, одно решение, после которого числа будут расположены в верном порядке. "
   ]
  }
 ],
 "metadata": {
  "kernelspec": {
   "display_name": "Python 3 (ipykernel)",
   "language": "python",
   "name": "python3"
  },
  "language_info": {
   "codemirror_mode": {
    "name": "ipython",
    "version": 3
   },
   "file_extension": ".py",
   "mimetype": "text/x-python",
   "name": "python",
   "nbconvert_exporter": "python",
   "pygments_lexer": "ipython3",
   "version": "3.9.16"
  }
 },
 "nbformat": 4,
 "nbformat_minor": 5
}
