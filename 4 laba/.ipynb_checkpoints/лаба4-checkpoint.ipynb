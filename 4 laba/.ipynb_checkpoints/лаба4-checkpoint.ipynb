{
 "cells": [
  {
   "cell_type": "markdown",
   "metadata": {
    "id": "SLalI4hSS6mw"
   },
   "source": [
    "# Лабораторная работа №4"
   ]
  },
  {
   "cell_type": "markdown",
   "metadata": {
    "id": "0IuUGUh-S7Gm"
   },
   "source": [
    "## Выполнила студентка группы БСТ2105 Первухина Алиса Александровна"
   ]
  },
  {
   "cell_type": "markdown",
   "metadata": {
    "id": "_1wDG050TNA9"
   },
   "source": [
    "Реализовать методы поиска в соответствии с заданием. Организовать генерацию начального набора случайных данных. Для всех вариантов добавить реализацию добавления, поиска и удаления элементов. Оценить время работы каждого алгоритма поиска и сравнить его со временем работы стандартной функции поиска, используемой в выбранном языке программирования."
   ]
  },
  {
   "cell_type": "markdown",
   "metadata": {
    "id": "gGiSlCwrTEhP"
   },
   "source": [
    "### Задание №1"
   ]
  },
  {
   "cell_type": "markdown",
   "metadata": {
    "id": "FC9K5RpvTGqm"
   },
   "source": [
    "### Бинарный поиск"
   ]
  },
  {
   "cell_type": "code",
   "execution_count": 8,
   "metadata": {
    "id": "4MwMB5RJUKDP"
   },
   "outputs": [],
   "source": [
    "import random\n",
    "import math\n",
    "import time\n",
    "import pandas as pd\n",
    "import matplotlib.pyplot as plt\n",
    "from timeit import default_timer\n"
   ]
  },
  {
   "cell_type": "code",
   "execution_count": 9,
   "metadata": {
    "id": "u_rjYg_5VXcA"
   },
   "outputs": [],
   "source": [
    "def BinarySearch(ls: list, value: int) -> int:\n",
    "    middle = len(ls) // 2  # находим среднее значение массива, обозначим верхнюю и нижнюю границу\n",
    "    left = 0\n",
    "    right = len(ls) - 1\n",
    "    while left < right and middle != value:  # сравниваем искомое значение с серединой\n",
    "        if value < ls[middle]:\n",
    "            right = middle - 1\n",
    "        else:\n",
    "            left = middle + 1\n",
    "        middle = (left + right) // 2\n",
    "    return None if left > right else middle"
   ]
  },
  {
   "cell_type": "code",
   "execution_count": 12,
   "metadata": {
    "colab": {
     "base_uri": "https://localhost:8080/"
    },
    "id": "va_EqWA1V9Zr",
    "outputId": "614cafd7-8e85-471a-c5d7-ca33264d67c8"
   },
   "outputs": [
    {
     "name": "stdout",
     "output_type": "stream",
     "text": [
      "Введите длину списка: N = 20\n",
      "[6, 17, 27, 31, 36, 38, 39, 44, 44, 52, 58, 58, 62, 65, 67, 69, 72, 78, 87, 96]\n",
      "Введите значение для поиска: 44\n",
      "Значение найденного элемента:  9\n"
     ]
    }
   ],
   "source": [
    "n = int(input(\"Введите длину списка: N = \"))\n",
    "ls = [random.randint(1, 100) for _ in range(n)]\n",
    "ls.sort()\n",
    "print(ls)\n",
    "value = int(input(\"Введите значение для поиска: \"))\n",
    "t1 = default_timer()\n",
    "print(\"Значение найденного элемента: \", BinarySearch(ls, value))\n",
    "timeBinarySearch = round((default_timer() - t1)*1000,2)"
   ]
  },
  {
   "cell_type": "markdown",
   "metadata": {
    "id": "cPhzFCiJYZaj"
   },
   "source": [
    "### Бинарное дерево"
   ]
  },
  {
   "cell_type": "code",
   "execution_count": 13,
   "metadata": {
    "id": "f0yXSqKCYcdf"
   },
   "outputs": [],
   "source": [
    "class Node:\n",
    "    def __init__(self, value):\n",
    "        self.value = value\n",
    "        self.left = None\n",
    "        self.right = None\n",
    "\n",
    "\n",
    "class BinaryTree:\n",
    "    def __init__(self):\n",
    "        self.root = None\n",
    "\n",
    "    def insert(self, value):\n",
    "        new_node = Node(value)  # Создание нового узла\n",
    "        if self.root is None:  # Если дерево пустое\n",
    "            self.root = new_node  # Новый узел становится корневым\n",
    "            return\n",
    "        current = self.root  # Текущий узел - корневой\n",
    "        while True:\n",
    "            if value < current.value:  # Если значение меньше значения текущего узла\n",
    "                if current.left is None:  # Если левый потомок отсутствует\n",
    "                    current.left = new_node  # Новый узел становится левым потомком текущего узла\n",
    "                    break\n",
    "                current = current.left  # Текущим узлом становится левый потомок текущего узла\n",
    "            else:  # Если значение больше или равно значению текущего узла\n",
    "                if current.right is None:  # Если правый потомок отсутствует\n",
    "                    current.right = new_node  # Новый узел становится правым потомком текущего узла\n",
    "                    break\n",
    "                current = current.right  # Текущим узлом становится правый потомок текущего узла\n",
    "\n",
    "    def search(self, value):\n",
    "        current = self.root  # Текущий узел - корневой\n",
    "        while True:\n",
    "            if current is None:  # Если текущий узел отсутствует\n",
    "                return False  # Узел не найден\n",
    "            if current.value == value:  # Если значения текущего узла искомого узла равны\n",
    "                return True  # Узел найден\n",
    "            elif value < current.value:  # Если значение меньше значения текущего узла\n",
    "                current = current.left  # Текущим узлом становится левый потомок текущего узла\n",
    "            else:  # Если значение больше значения текущего узла\n",
    "                current = current.right  # Текущим узлом становится правый потомок текущего узла\n",
    "                \n",
    "    def printTree(self, node): # распечатываем все дерево, от большего к меньшему\n",
    "        if node is None:\n",
    "            return\n",
    "        self.printTree(node.left)\n",
    "        print(node.value, end=\" \")\n",
    "        self.printTree(node.right)\n",
    "    \n",
    "    \n",
    "    \n",
    "    def delete(self, value):\n",
    "        \n",
    "        def _delete(node, value):\n",
    "            if node is None:  # если узел пустой, значит элемента в дереве нет\n",
    "                return node\n",
    "            elif value < node.value:  # если значение меньше значения узла, рекурсивно идем влево\n",
    "                node.left = _delete(node.left, value)\n",
    "            elif value > node.value:  # если значение больше значения узла, рекурсивно идем вправо\n",
    "                node.right = _delete(node.right, value)\n",
    "            else:  # если значение равно значению узла, то это узел, который нужно удалить\n",
    "                if node.left is None:  # если у узла нет левого потомка, возвращаем правого потомка\n",
    "                    temp = node.right\n",
    "                    node = None\n",
    "                    return temp\n",
    "                elif node.right is None:  # если у узла нет правого потомка, возвращаем левого потомка\n",
    "                    temp = node.left\n",
    "                    node = None\n",
    "                    return temp\n",
    "                temp = self.minValueNode(node.right)  # ищем узел с минимальным значением в правом поддереве\n",
    "                node.value = temp.value  # копируем значение найденного узла в удаляемый узел\n",
    "                node.right = _delete(node.right, temp.value)  # рекурсивно удаляем найденный узел\n",
    "            return node\n",
    "        \n",
    "        self.root = _delete(self.root, value)\n",
    "        \n",
    "        \n",
    "    def minValueNode(self, node):  # метод для поиска узла с минимальным значением в дереве\n",
    "        current = node\n",
    "        while current.left is not None:\n",
    "            current = current.left\n",
    "        return current"
   ]
  },
  {
   "cell_type": "code",
   "execution_count": 14,
   "metadata": {
    "colab": {
     "base_uri": "https://localhost:8080/"
    },
    "id": "ngtt0Az-YfSJ",
    "outputId": "8b9417d4-ee19-4395-d259-1bf917bd7123"
   },
   "outputs": [
    {
     "name": "stdout",
     "output_type": "stream",
     "text": [
      "True\n"
     ]
    }
   ],
   "source": [
    "t1 = default_timer()\n",
    "tree = BinaryTree()\n",
    "for i in range(10):\n",
    "    tree.insert(random.randint(1, 10))\n",
    "print(tree.search(10))"
   ]
  },
  {
   "cell_type": "code",
   "execution_count": 15,
   "metadata": {
    "colab": {
     "base_uri": "https://localhost:8080/"
    },
    "id": "UA6hFPE9Zghk",
    "outputId": "6e192f91-0108-470c-8bc3-a2bffcc11d79"
   },
   "outputs": [
    {
     "name": "stdout",
     "output_type": "stream",
     "text": [
      "3 3 3 4 4 5 8 9 10 10 "
     ]
    }
   ],
   "source": [
    "tree.printTree(tree.root)\n",
    "timeBinaryTree = round((default_timer() - t1)*1000,2)"
   ]
  },
  {
   "cell_type": "code",
   "execution_count": 17,
   "metadata": {},
   "outputs": [
    {
     "name": "stdout",
     "output_type": "stream",
     "text": [
      "3 3 3 4 4 5 9 10 10 "
     ]
    }
   ],
   "source": [
    "tree.delete(8)\n",
    "tree.printTree(tree.root)"
   ]
  },
  {
   "cell_type": "markdown",
   "metadata": {
    "id": "cBvN9ORKZi2P"
   },
   "source": [
    "### Поиск Фибоначчи"
   ]
  },
  {
   "cell_type": "code",
   "execution_count": 18,
   "metadata": {
    "id": "vX_-_hzpZksQ"
   },
   "outputs": [],
   "source": [
    "def FibonacciSearch(arr, item):\n",
    "    fib1, fib2 = 0, 1  # первые два числа и третье выраженное суммой прошлых\n",
    "    fib_sum = fib1 + fib2\n",
    "    while fib_sum < len(arr):  # наименьшее число в последовательности\n",
    "        fib1 = fib2\n",
    "        fib2 = fib_sum\n",
    "        fib_sum = fib1 + fib2\n",
    "\n",
    "    offset = -1\n",
    "    while fib_sum > 1:  # пока в массиве есть элементы и значением суммы > 1 делаем следующее\n",
    "        i = min(offset + fib1, len(arr) - 1)  # i ищем для того, чтобы понять на сколько вниз нам сдвигаться\n",
    "        if arr[i] < item:  # перемещаем  наши значения на два шага вниз и индекс становится индексом элемента\n",
    "            fib_sum = fib2  \n",
    "            fib2 = fib1\n",
    "            fib1 = fib_sum - fib2\n",
    "            offset = i\n",
    "        elif arr[i] > item:   # перемещаем наши значения на один шаг вниз\n",
    "            fib_sum = fib1\n",
    "            fib2 = fib2 - fib1\n",
    "            fib1 = fib_sum - fib2\n",
    "        else:\n",
    "            return i\n",
    "    if fib2 == 1 and arr[offset + 1] == item:  # проверяем значение\n",
    "        return offset + 1\n",
    "    return 'В сгенерированном массиве нет элемента с таким значением'"
   ]
  },
  {
   "cell_type": "code",
   "execution_count": 19,
   "metadata": {
    "colab": {
     "base_uri": "https://localhost:8080/"
    },
    "id": "68686xXMZo6k",
    "outputId": "8137f1e9-0ba5-4890-fd52-edf1e81e5519"
   },
   "outputs": [
    {
     "name": "stdout",
     "output_type": "stream",
     "text": [
      "Введите длину списка: N = 20\n",
      "[6, 7, 9, 13, 17, 23, 30, 35, 38, 41, 45, 49, 51, 58, 63, 65, 73, 77, 82, 98]\n",
      "Введите значение для поиска: 13\n",
      "Значение 13 найдено по индексу 3\n"
     ]
    }
   ],
   "source": [
    "n = int(input(\"Введите длину списка: N = \"))\n",
    "arr = sorted([random.randint(1, 100) for _ in range(n)])\n",
    "print(arr)\n",
    "item = int(input(\"Введите значение для поиска: \"))\n",
    "t1 = default_timer()\n",
    "result = FibonacciSearch(arr, item)\n",
    "timeFibonacciSearch = round((default_timer() - t1)*1000,2)\n",
    "\n",
    "if result is not None:\n",
    "    print(f\"Значение {item} найдено по индексу {result}\")\n",
    "else:\n",
    "    print(f\"Значение {item} не найдено\")\n",
    "    "
   ]
  },
  {
   "cell_type": "markdown",
   "metadata": {
    "id": "GcetWGGAasmS"
   },
   "source": [
    "### Интерполяционный поиск"
   ]
  },
  {
   "cell_type": "code",
   "execution_count": 20,
   "metadata": {
    "id": "0Tb7ix3Yazvq"
   },
   "outputs": [],
   "source": [
    "def interpolationSearch(arr, item):\n",
    "    low = 0\n",
    "    high = len(arr) - 1\n",
    "    while low <= high and item >= arr[low] and item <= arr[high]:\n",
    "        pos = low + ((item - arr[low]) * (high - low) // (arr[high] - arr[low]))  # вычисление вероятной позиции искомого элемента\n",
    "        if arr[pos] == item:  # элемент найден\n",
    "            return pos\n",
    "        elif arr[pos] < item:  # пересчитываем индекс для правого подмассива\n",
    "            low = pos + 1\n",
    "        else:   # пересчитываем индекс для левого подмассива\n",
    "            high = pos - 1\n",
    "    return 'В сгенерированном массиве нет элемента с таким значением'"
   ]
  },
  {
   "cell_type": "code",
   "execution_count": 21,
   "metadata": {
    "colab": {
     "base_uri": "https://localhost:8080/"
    },
    "id": "eji2oQCec0PU",
    "outputId": "591e83e4-c103-4839-caba-afb856e9dd4d"
   },
   "outputs": [
    {
     "name": "stdout",
     "output_type": "stream",
     "text": [
      "Введите длину списка: N = 20\n",
      "[10, 12, 14, 15, 20, 22, 31, 32, 36, 53, 53, 67, 68, 71, 72, 87, 94, 98, 99, 100]\n",
      "Введите значение для поиска: 20\n",
      "Значение 20 найдено по индексу 4\n"
     ]
    }
   ],
   "source": [
    "n = int(input(\"Введите длину списка: N = \"))\n",
    "arr = sorted([random.randint(1, 100) for _ in range(n)])\n",
    "print(arr)\n",
    "item = int(input(\"Введите значение для поиска: \"))\n",
    "t1 = default_timer()\n",
    "result = interpolationSearch(arr, item)\n",
    "timeFinterpolationSearch = round((default_timer() - t1)*1000,2)\n",
    "if result is not None:\n",
    "    print(f\"Значение {item} найдено по индексу {result}\")\n",
    "else:\n",
    "    print(f\"Значение {item} не найдено\")\n"
   ]
  },
  {
   "cell_type": "markdown",
   "metadata": {
    "id": "MEZzToZ5ddGw"
   },
   "source": [
    "### Сравнение методов поиска"
   ]
  },
  {
   "cell_type": "code",
   "execution_count": 22,
   "metadata": {
    "colab": {
     "base_uri": "https://localhost:8080/"
    },
    "id": "E7QWi0fedeJe",
    "outputId": "7b5e1229-cbaf-4b8c-a2ab-481dea6b4351"
   },
   "outputs": [
    {
     "name": "stdout",
     "output_type": "stream",
     "text": [
      "1 место: Интерполяционный поиск - 0.1 мс \n",
      "2 место: Поиск Фибоначчи - 0.1 мс \n",
      "3 место: Бинарный поиск - 0.3 мс \n",
      "4 место: Бинарное дерево - 951.38 мс \n"
     ]
    }
   ],
   "source": [
    "time_list=[[timeBinarySearch, \"Бинарный поиск\"],\n",
    "          [timeBinaryTree, \"Бинарное дерево\"],\n",
    "          [timeFibonacciSearch, \"Поиск Фибоначчи\"],\n",
    "          [timeFinterpolationSearch, \"Интерполяционный поиск\"]]\n",
    "time_list.sort()\n",
    "for i in range(len(time_list)):\n",
    "    print(f\"{i + 1} место: {time_list[i][1]} - {time_list[i][0]} мс \")"
   ]
  },
  {
   "cell_type": "markdown",
   "metadata": {
    "id": "YbRAmw3DcKZQ"
   },
   "source": [
    "## Задание 2"
   ]
  },
  {
   "cell_type": "markdown",
   "metadata": {
    "id": "WjXs4_HOcUlc"
   },
   "source": [
    "### Простое рехэширование"
   ]
  },
  {
   "cell_type": "code",
   "execution_count": 24,
   "metadata": {
    "id": "0T-XG1UIcsz3"
   },
   "outputs": [],
   "source": [
    "# при возникновении коллизии, ключ переносится в следующую свободную ячейку, начиная с той, в которой он должен быть помещен\n",
    "class HashNode:\n",
    "    \n",
    "    def __init__(self, key, value):\n",
    "        self.key = key\n",
    "        self.value = value\n",
    "        \n",
    "    def get_key(self):\n",
    "        return self.key\n",
    "\n",
    "    def get_value(self):\n",
    "        return self.value\n",
    "\n",
    "class SimpleHashMap:\n",
    "    \n",
    "    def __init__(self, capacity: int):\n",
    "        self.size = 0\n",
    "        self.capacity = capacity\n",
    "        self.buckets = [None] * self.capacity\n",
    "    \n",
    "    def _hash_generate(self, key):\n",
    "        return key % self.capacity\n",
    "\n",
    "    def insert(self, key, value):\n",
    "        if self.size != self.capacity:\n",
    "            self.size += 1\n",
    "            index = self._hash_generate(key)\n",
    "            while self.buckets:\n",
    "                if self.buckets[index] != None: # проверка на коллизию\n",
    "                    index = (index + 1) % self.capacity\n",
    "                else: break\n",
    "            self.buckets[index] = HashNode(index, value) #?\n",
    "        else:\n",
    "            print(\"HashMap is full\")\n",
    "    \n",
    "    def get(self, key):\n",
    "        index = _hash_generate(key)\n",
    "        return self.buckets[index]\n",
    "    \n",
    "    def delete(self, key):\n",
    "        index = _hash_generate(key)\n",
    "        if self.size:\n",
    "            self.size -= 1\n",
    "            self.buckets[index] = None\n",
    "        else:\n",
    "            print(\"HashMap is empty\")\n",
    "        \n",
    "        \n",
    "    def print(self):\n",
    "        for i in range(len(self.buckets)):\n",
    "            if self.buckets[i] != None:\n",
    "                print(self.buckets[i].get_key(), self.buckets[i].get_value(), sep=\": \")\n",
    "        print()"
   ]
  },
  {
   "cell_type": "code",
   "execution_count": 25,
   "metadata": {
    "id": "6eGFU-iZez66"
   },
   "outputs": [
    {
     "name": "stdout",
     "output_type": "stream",
     "text": [
      "0: 7\n",
      "1: 2\n",
      "2: 0\n",
      "3: 10\n",
      "4: 4\n",
      "5: 3\n",
      "\n",
      "HashMap is full\n"
     ]
    }
   ],
   "source": [
    "hash_table = SimpleHashMap(6)\n",
    "hash_table.insert(1, 2)\n",
    "hash_table.insert(2, 0)\n",
    "hash_table.insert(4, 4)\n",
    "hash_table.insert(11, 3) \n",
    "hash_table.insert(16, 7) # коллизия с ключом (11 % 6 == 16 % 6)\n",
    "hash_table.insert(10, 10)\n",
    "hash_table.print()\n",
    "\n",
    "hash_table.insert(12, 10)"
   ]
  },
  {
   "cell_type": "markdown",
   "metadata": {
    "id": "xhy9pNAoe3HN"
   },
   "source": [
    "### Рехэширование с псевдослучайными числами"
   ]
  },
  {
   "cell_type": "code",
   "execution_count": 27,
   "metadata": {
    "id": "0BTagiQ8e5Jc"
   },
   "outputs": [],
   "source": [
    "class RandomHashMap:\n",
    "    \n",
    "    def __init__(self, capacity: int):\n",
    "        self.size = 0\n",
    "        self.capacity = capacity\n",
    "        self.buckets = [None] * self.capacity\n",
    "    \n",
    "    def _random_hash_generate(self, key):\n",
    "        indexes = [i for i in range(self.capacity)]\n",
    "        random.shuffle(indexes)\n",
    "        while self.buckets:\n",
    "            index = indexes.pop()\n",
    "            if self.buckets[index] == None: # проверка на коллизию\n",
    "                return index\n",
    "\n",
    "    def insert(self, key, value):\n",
    "        if self.size != self.capacity:\n",
    "            self.size += 1\n",
    "            index = self._random_hash_generate(key)\n",
    "            self.buckets[index] = HashNode(index, value) #?\n",
    "        else:\n",
    "            print(\"HashMap is full\")\n",
    "            \n",
    "    def delete(self, key):\n",
    "        if key > self.capacity-1:\n",
    "            print(\"key isn't found\")\n",
    "        if self.size:\n",
    "            self.size -= 1\n",
    "            self.buckets[key] = None\n",
    "        else:\n",
    "            print(\"HashMap is empty\")\n",
    "            \n",
    "    def print(self):\n",
    "        for i in range(len(self.buckets)):\n",
    "            if self.buckets[i] != None:\n",
    "                print(f\"Key: {self.buckets[i].get_key()}, Value: {self.buckets[i].get_value()}\")\n",
    "        print()"
   ]
  },
  {
   "cell_type": "code",
   "execution_count": 28,
   "metadata": {
    "id": "4s-NN6Q-hbJG"
   },
   "outputs": [
    {
     "name": "stdout",
     "output_type": "stream",
     "text": [
      "Key: 0, Value: 0\n",
      "Key: 1, Value: 3\n",
      "Key: 2, Value: 10\n",
      "Key: 3, Value: 2\n",
      "Key: 4, Value: 7\n",
      "Key: 5, Value: 4\n",
      "\n",
      "HashMap is full\n"
     ]
    }
   ],
   "source": [
    "hash_map = RandomHashMap(6)\n",
    "hash_map.insert(1, 2)\n",
    "hash_map.insert(2, 0)\n",
    "hash_map.insert(4, 4)\n",
    "hash_map.insert(11, 3) \n",
    "hash_map.insert(16, 7)\n",
    "hash_map.insert(10, 10)\n",
    "hash_map.print()\n",
    "\n",
    "hash_map.insert(12, 10)"
   ]
  },
  {
   "cell_type": "markdown",
   "metadata": {
    "id": "zqVqWHtpmeOC"
   },
   "source": [
    "### Метод цепочек"
   ]
  },
  {
   "cell_type": "code",
   "execution_count": 29,
   "metadata": {
    "id": "oB4dfVBTmf21"
   },
   "outputs": [],
   "source": [
    "# Метод цепочек - это метод решения коллизий в хэш-таблицах.\n",
    "# Он основан на создании связанных списков (цепочек) элементов,\n",
    "# которые имеют одинаковый хэш-код.\n",
    "# Создаем класс узла списка\n",
    "class ChainHashNode:\n",
    "    def __init__(self, key, value):\n",
    "        self.key = key\n",
    "        self.value = value\n",
    "        self.next = None\n",
    "    \n",
    "    def get_key(self):\n",
    "        return self.key\n",
    "\n",
    "    def get_value(self):\n",
    "        return self.value\n",
    "    \n",
    "    def get_next(self):\n",
    "        return self.next\n",
    "\n",
    "\n",
    "# Создаем класс хэш-таблицы\n",
    "class ChainHashMap:\n",
    "    def __init__(self):\n",
    "        self.capacity = 10  # начальная емкость таблицы\n",
    "        self.size = 0  # количество элементов в таблице\n",
    "        self.buckets = [None] * self.capacity  # создаем пустые списки для каждой ячейки таблицы\n",
    "\n",
    "    # Метод добавления элемента в таблицу\n",
    "    def insert(self, key, value):\n",
    "        index = hash(key) % self.capacity  # вычисляем хэш-код ключа и индекс ячейки таблицы\n",
    "        node = self.buckets[index]  # получаем список (цепочку) элементов по индексу\n",
    "        while node:  # проходим по всем элементам цепочки\n",
    "            if node.key == key:  # если ключ уже есть в таблице, обновляем значение\n",
    "                node.value = value\n",
    "                return\n",
    "            node = node.next\n",
    "        # если ключа нет в таблице, добавляем его в начало цепочки\n",
    "        new_node = ChainHashNode(key, value)\n",
    "        new_node.next = self.buckets[index]\n",
    "        self.buckets[index] = new_node\n",
    "        self.size += 1\n",
    "        # если количество элементов превысило 70% от емкости таблицы, увеличиваем емкость вдвое\n",
    "        if self.size > 0.7 * self.capacity:\n",
    "            self.resize()\n",
    "\n",
    "    # Метод получения значения по ключу\n",
    "    def get(self, key):\n",
    "        index = hash(key) % self.capacity  # вычисляем хэш-код ключа и индекс ячейки таблицы\n",
    "        node = self.buckets[index]  # получаем список (цепочку) элементов по индексу\n",
    "        while node:  # проходим по всем элементам цепочки\n",
    "            if node.key == key:  # если ключ найден, возвращаем его значение\n",
    "                return node.value\n",
    "            node = node.next\n",
    "        # если ключ не найден, возвращаем None\n",
    "        return None\n",
    "\n",
    "    # Метод удаления элемента из таблицы\n",
    "    def delete(self, key):\n",
    "        index = hash(key) % self.capacity  # вычисляем хэш-код ключа и индекс ячейки таблицы\n",
    "        node = self.buckets[index]  # получаем список (цепочку) элементов по индексу\n",
    "        prev = None\n",
    "        while node:  # проходим по всем элементам цепочки\n",
    "            if node.key == key:  # если ключ найден, удаляем элемент\n",
    "                if prev:\n",
    "                    prev.next = node.next\n",
    "                else:\n",
    "                    self.buckets[index] = node.next\n",
    "                self.size -= 1\n",
    "                return\n",
    "            prev = node\n",
    "            node = node.next\n",
    "\n",
    "    # Метод изменения емкости таблицы\n",
    "    def resize(self):\n",
    "        new_capacity = self.capacity * 2  # увеличиваем емкость вдвое\n",
    "        new_buckets = [None] * new_capacity  # создаем новую таблицу с увеличенной емкостью\n",
    "        # перехешируем все элементы из старой таблицы в новую\n",
    "        for i in range(self.capacity):\n",
    "            node = self.buckets[i]\n",
    "            while node:\n",
    "                index = hash(node.key) % new_capacity\n",
    "                if new_buckets[index]:\n",
    "                    new_node = new_buckets[index]\n",
    "                    while new_node.next:\n",
    "                        new_node = new_node.next\n",
    "                    new_node.next = ChainHashNode(node.key, node.value)\n",
    "                else:\n",
    "                    new_buckets[index] = ChainHashNode(node.key, node.value)\n",
    "                node = node.next\n",
    "        self.capacity = new_capacity\n",
    "        self.buckets = new_buckets\n",
    "        \n",
    "    def print(self):\n",
    "        for i in range(self.capacity):\n",
    "            node = self.buckets[i]\n",
    "            while node:\n",
    "                print(f\"Key: {node.key}, Value: {node.value}\")\n",
    "                node = node.next"
   ]
  },
  {
   "cell_type": "code",
   "execution_count": 30,
   "metadata": {
    "id": "4YYIcVqTni1b"
   },
   "outputs": [
    {
     "name": "stdout",
     "output_type": "stream",
     "text": [
      "Key: key4, Value: value4\n",
      "Key: key1, Value: value1\n",
      "Key: key6, Value: 2\n",
      "Key: key5, Value: 3\n",
      "Key: key2, Value: value2\n",
      "Key: key3, Value: value3\n"
     ]
    }
   ],
   "source": [
    "ht = ChainHashMap()\n",
    "ht.insert('key1', 'value1')\n",
    "ht.insert('key2', 'value2')\n",
    "ht.insert('key3', 'value3')\n",
    "ht.insert('key4', 'value4')\n",
    "ht.insert('key5', 1)\n",
    "ht.insert('key6', 2)\n",
    "ht.insert('key5', 3)\n",
    "ht.print()"
   ]
  },
  {
   "cell_type": "markdown",
   "metadata": {
    "id": "t3yLzyc7nmH6"
   },
   "source": [
    "## Задание 3"
   ]
  },
  {
   "cell_type": "markdown",
   "metadata": {
    "id": "K95ZA8oHnnFa"
   },
   "source": [
    "Расставить на стандартной 64-клеточной шахматной доске 8 ферзей так, чтобы ни один из них не находился под боем другого». Подразумевается, что ферзь бьёт все клетки, расположенные по вертикалям, горизонталям и обеим диагоналям"
   ]
  },
  {
   "cell_type": "code",
   "execution_count": 31,
   "metadata": {
    "id": "XUe3Wb02no1Q"
   },
   "outputs": [
    {
     "name": "stdout",
     "output_type": "stream",
     "text": [
      "▢ ▢ ▢ ▢ ♛ ▢ ▢ ▢ \n",
      "♛ ▢ ▢ ▢ ▢ ▢ ▢ ▢ \n",
      "▢ ▢ ▢ ♛ ▢ ▢ ▢ ▢ \n",
      "▢ ▢ ▢ ▢ ▢ ♛ ▢ ▢ \n",
      "▢ ▢ ▢ ▢ ▢ ▢ ▢ ♛ \n",
      "▢ ♛ ▢ ▢ ▢ ▢ ▢ ▢ \n",
      "▢ ▢ ▢ ▢ ▢ ▢ ♛ ▢ \n",
      "▢ ▢ ♛ ▢ ▢ ▢ ▢ ▢ \n"
     ]
    }
   ],
   "source": [
    "class Queen:\n",
    "    def __init__(self, x, y):\n",
    "        self.x = x\n",
    "        self.y = y\n",
    "\n",
    "    def attack(self, queen) -> bool:\n",
    "        return self.x == queen.x or self.y == queen.y or abs(queen.x - self.x) == abs(queen.y - self.y)\n",
    "\n",
    "    def getCoord(self):\n",
    "        return (self.x, self.y)\n",
    "\n",
    "\n",
    "def SolveQueens(boardSize: int, queens: list = None):\n",
    "    if queens is None:\n",
    "        queens = [Queen(0, random.randint(0, boardSize - 1))]\n",
    "\n",
    "    if len(queens) == boardSize:\n",
    "        res = []\n",
    "        for queen in queens:\n",
    "            res.append(queen.getCoord())\n",
    "        return res\n",
    "    else:\n",
    "        row = len(queens)\n",
    "        candidates = [Queen(row, i) for i in range(boardSize)]\n",
    "        for candidate in candidates:\n",
    "            under_attack = False\n",
    "            for queen in queens:\n",
    "                if queen.attack(candidate):\n",
    "                    under_attack = True\n",
    "                    break\n",
    "            if not under_attack:\n",
    "                queens.append(candidate)\n",
    "                result = SolveQueens(boardSize, queens)\n",
    "                if result is not None:\n",
    "                    return result\n",
    "                queens.pop()\n",
    "        return None\n",
    "\n",
    "\n",
    "def Draw(placement):\n",
    "    boardSize = len(placement)\n",
    "    for x in range(boardSize):\n",
    "        for y in range(boardSize):\n",
    "            if (x, y) in placement:\n",
    "                print(\"♛\", end=\" \")\n",
    "            else:\n",
    "                print(\"▢\", end=\" \")\n",
    "        print()\n",
    "\n",
    "\n",
    "Draw(SolveQueens(8))"
   ]
  },
  {
   "cell_type": "markdown",
   "metadata": {
    "id": "Eg6dDZuHnxnT"
   },
   "source": [
    "## Вывод"
   ]
  },
  {
   "cell_type": "markdown",
   "metadata": {
    "id": "1r93EMLHn0jG"
   },
   "source": [
    "В ходе данной лабораторной работы были реализованы методы поиска элемента в массиве и определены зависимости времени исполнения алгоритма, построена сводная таблица. Были реализованы три вида хэширования. Была решена задача с расстановкой ферзей на шахматной доске."
   ]
  }
 ],
 "metadata": {
  "colab": {
   "provenance": []
  },
  "kernelspec": {
   "display_name": "Python 3 (ipykernel)",
   "language": "python",
   "name": "python3"
  },
  "language_info": {
   "codemirror_mode": {
    "name": "ipython",
    "version": 3
   },
   "file_extension": ".py",
   "mimetype": "text/x-python",
   "name": "python",
   "nbconvert_exporter": "python",
   "pygments_lexer": "ipython3",
   "version": "3.9.16"
  }
 },
 "nbformat": 4,
 "nbformat_minor": 1
}
